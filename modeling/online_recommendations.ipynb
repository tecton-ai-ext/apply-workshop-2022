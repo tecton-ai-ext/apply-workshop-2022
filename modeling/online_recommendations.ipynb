{
 "cells": [
  {
   "cell_type": "code",
   "execution_count": 1,
   "metadata": {
    "jupyter": {
     "source_hidden": true
    }
   },
   "outputs": [],
   "source": [
    "import asyncio\n",
    "import base64\n",
    "import json\n",
    "import os\n",
    "import pickle\n",
    "from datetime import date\n",
    "from functools import lru_cache\n",
    "import aiohttp\n",
    "import pandas as pd\n",
    "from dotenv import load_dotenv\n",
    "from flask import Flask, abort\n",
    "from flask_cors import CORS, cross_origin\n",
    "from urllib3 import HTTPConnectionPool, HTTPSConnectionPool"
   ]
  },
  {
   "cell_type": "code",
   "execution_count": null,
   "metadata": {
    "jupyter": {
     "source_hidden": true
    }
   },
   "outputs": [],
   "source": [
    "load_dotenv()  # take environment variables from .env.\n",
    "\n",
    "auth_headers = {\n",
    "    \"Authorization\": f'Tecton-key {os.environ[\"TECTON_API_KEY\"]}',\n",
    "}\n",
    "prediction_headers = {\"Content-Type\": \"application/json\"}\n",
    "\n",
    "get_features_endpoint = \"/api/v1/feature-service/get-features\"\n",
    "tecton_conn_pool = HTTPSConnectionPool(os.environ[\"TECTON_URL\"])\n",
    "prediction_conn_pool = HTTPConnectionPool(\"localhost:5002\")\n",
    "loop = asyncio.new_event_loop()\n",
    "connector = aiohttp.TCPConnector(limit=100, loop=loop)\n",
    "client = aiohttp.ClientSession(loop=loop, headers=auth_headers, connector=connector)\n",
    "url = f\"https://{os.environ['TECTON_URL']}/api/v1/feature-service/get-features\"\n",
    "movieid2title = pickle.load(open(\"movieid2title.p\", \"rb\"))\n"
   ]
  },
  {
   "cell_type": "code",
   "execution_count": 3,
   "metadata": {
    "jupyter": {
     "source_hidden": true
    }
   },
   "outputs": [],
   "source": [
    "def get_schema():\n",
    "    data = json.dumps(\n",
    "        {\n",
    "            \"params\": {\n",
    "                \"feature_service_name\": os.environ[\"TECTON_FEATURE_SERVICE\"],\n",
    "                \"join_key_map\": {\n",
    "                    \"USER_ID\": \"1\",\n",
    "                    \"MOVIE_ID\": \"1\",\n",
    "                },\n",
    "                \"workspace_name\": \"apply-2022-demo\",\n",
    "                \"metadata_options\": {\"include_names\": True, \"include_data_types\": True},\n",
    "            },\n",
    "        }\n",
    "    )\n",
    "    r = tecton_conn_pool.request(\"POST\", url=endpoint, headers=auth_headers, body=data)\n",
    "    data = json.loads(r.data.decode(\"utf-8\"))[\"metadata\"][\"features\"]\n",
    "    names = [\"USER_ID\", \"MOVIE_ID\"] + [f[\"name\"] for f in data]\n",
    "    names = [n.upper().replace(\".\", \"__\") for n in names]\n",
    "    types = [\"string\", \"string\"] + [f[\"dataType\"][\"type\"] for f in data]\n",
    "    return names, types\n",
    "\n",
    "\n",
    "names, types = get_schema()"
   ]
  },
  {
   "cell_type": "code",
   "execution_count": 4,
   "metadata": {},
   "outputs": [],
   "source": [
    "user_id = '102329'\n",
    "movie_id= '1'"
   ]
  },
  {
   "cell_type": "markdown",
   "metadata": {},
   "source": [
    "# Candidate Generation"
   ]
  },
  {
   "cell_type": "code",
   "execution_count": 5,
   "metadata": {},
   "outputs": [
    {
     "name": "stdout",
     "output_type": "stream",
     "text": [
      "['3114', '78499', '4886', '6377', '364', '8961', '68954', '4306', '588', '480', '60069', '356', '1270', '50872', '134853', '260', '58559', '4993', '1196', '1210', '59315', '5952', '2571', '6539', '7153', '1198', '1265', '1580', '595', '1682', '33794', '2355', '112852', '79132', '5349', '4896', '91529', '8360', '8368', '5218', '72998', '2762', '152081', '89745', '296', '110', '589', '318', '2716', '1291', '2959', '122886', '1197', '1097', '76093', '3578', '47', '5816', '8636', '59784', '593', '780', '115617', '1136', '122904', '6874', '1240', '40815', '5989', '2028', '88125', '81834', '1036', '97913', '2011', '108932', '79091', '69844', '68157', '919', '2918', '3793', '54001', '44191', '134130', '4022', '109487', '122882', '1907', '4963', '1721', '5618', '8874', '106696', '99114', '1214', '33493', '7438', '7361']\n"
     ]
    }
   ],
   "source": [
    "def generate_candidates(movie_id):\n",
    "    data = json.dumps(\n",
    "        {\n",
    "            \"params\": {\n",
    "                \"feature_service_name\": os.environ[\"TECTON_NEAREST_NEIGHBOR_SERVICE\"],\n",
    "                \"join_key_map\": {\n",
    "                    \"MOVIE_ID\": movie_id,\n",
    "                },\n",
    "                \"workspace_name\": \"apply-2022-demo\",\n",
    "            },\n",
    "        }\n",
    "    )\n",
    "    r = tecton_conn_pool.request(\"POST\", url=get_features_endpoint, headers=auth_headers, body=data)\n",
    "    candidates = json.loads(r.data.decode(\"utf-8\"))[\"result\"][\"features\"][0].split(\",\")[1:]\n",
    "    return candidates\n",
    "\n",
    "candidates = generate_candidates(movie_id)\n",
    "print(candidates)"
   ]
  },
  {
   "cell_type": "markdown",
   "metadata": {},
   "source": [
    "# Filtering"
   ]
  },
  {
   "cell_type": "code",
   "execution_count": 6,
   "metadata": {},
   "outputs": [],
   "source": [
    "def filter_candidates(user_id, movie_ids):\n",
    "    data = json.dumps(\n",
    "        {\n",
    "            \"params\": {\n",
    "                \"feature_service_name\": os.environ[\"TECTON_RECENTLY_WATCHED_SERVICE\"],\n",
    "                \"join_key_map\": {\n",
    "                    \"USER_ID\": user_id,\n",
    "                },\n",
    "                \"workspace_name\": \"apply-2022-demo\",\n",
    "            },\n",
    "        }\n",
    "    )\n",
    "    r = tecton_conn_pool.request(\"POST\", url=get_features_endpoint, headers=auth_headers, body=data)\n",
    "    recently_watched = json.loads(r.data.decode(\"utf-8\"))[\"result\"][\"features\"][0]\n",
    "    if recently_watched is None:\n",
    "        return movie_ids\n",
    "    else:\n",
    "        print(recently_watched.split(\",\"))\n",
    "        filtered = list(set(movie_ids) - set(recently_watched.split(\",\")))\n",
    "        return filtered\n",
    "    \n",
    "filtered_candidates = filter_candidates(user_id, candidates)\n"
   ]
  },
  {
   "cell_type": "markdown",
   "metadata": {},
   "source": [
    "# Ranking\n",
    "![](assets/ranking.png)"
   ]
  },
  {
   "cell_type": "code",
   "execution_count": 7,
   "metadata": {},
   "outputs": [
    {
     "name": "stdout",
     "output_type": "stream",
     "text": [
      "[('Shawshank Redemption, The (1994)', 4.57875919342041), ('WALL·E (2008)', 4.527594566345215), ('Spirited Away (Sen to Chihiro no kamikakushi) (2001)', 4.523556232452393), ('Groundhog Day (1993)', 4.507867336273193), ('Incredibles, The (2004)', 4.485877990722656), ('Back to the Future (1985)', 4.481118679046631), ('How to Train Your Dragon (2010)', 4.479037284851074), ('Zootopia (2016)', 4.478172302246094), ('Up (2009)', 4.47419548034668), ('Terminator 2: Judgment Day (1991)', 4.467179775238037), ('Aladdin (1992)', 4.464611530303955), ('Monsters, Inc. (2001)', 4.461755752563477), ('Lion King, The (1994)', 4.4545135498046875), ('Guardians of the Galaxy (2014)', 4.453990459442139), ('Princess Bride, The (1987)', 4.452365875244141), ('Catch Me If You Can (2002)', 4.451648712158203), ('Ratatouille (2007)', 4.44854211807251), ('Back to the Future Part II (1989)', 4.448413372039795), ('Forrest Gump (1994)', 4.434703350067139), ('The Martian (2015)', 4.431207656860352), ('Toy Story 3 (2010)', 4.43065071105957), ('Matrix, The (1999)', 4.426032543182373), ('Raiders of the Lost Ark (Indiana Jones and the Raiders of the Lost Ark) (1981)', 4.424460411071777), ('Indiana Jones and the Last Crusade (1989)', 4.420936107635498), ('Star Wars: Episode IV - A New Hope (1977)', 4.412548542022705), (\"Ferris Bueller's Day Off (1986)\", 4.409059524536133), ('Die Hard (1988)', 4.405820369720459), ('Inside Out (2015)', 4.404052257537842), ('Saving Private Ryan (1998)', 4.403532028198242), ('Mulan (1998)', 4.399133682250977), ('Wreck-It Ralph (2012)', 4.396303653717041), ('Inception (2010)', 4.395003795623779), ('Truman Show, The (1998)', 4.389050483703613), ('Lord of the Rings: The Fellowship of the Ring, The (2001)', 4.386520862579346), ('Big Hero 6 (2014)', 4.385047435760498), ('Cast Away (2000)', 4.378864288330078), ('Dark Knight, The (2008)', 4.375119209289551), ('Eternal Sunshine of the Spotless Mind (2004)', 4.367790222167969), ('The Lego Movie (2014)', 4.362107753753662), ('Star Wars: Episode V - The Empire Strikes Back (1980)', 4.361765384674072), ('Seven (a.k.a. Se7en) (1995)', 4.361758708953857), ('Beauty and the Beast (1991)', 4.361363410949707), (\"Ocean's Eleven (2001)\", 4.354925155639648), ('Lord of the Rings: The Two Towers, The (2002)', 4.351477146148682), ('Inglourious Basterds (2009)', 4.343559741973877), ('Django Unchained (2012)', 4.341762065887451), (\"Harry Potter and the Sorcerer's Stone (a.k.a. Harry Potter and the Philosopher's Stone) (2001)\", 4.341694355010986), ('Avengers, The (2012)', 4.341010093688965), ('Shrek (2001)', 4.335834980010986), ('Gladiator (2000)', 4.333996772766113), ('Monty Python and the Holy Grail (1975)', 4.329248428344727), ('Toy Story 2 (1999)', 4.327136039733887), ('Star Wars: Episode VI - Return of the Jedi (1983)', 4.322718620300293), ('Interstellar (2014)', 4.321013927459717), ('Silence of the Lambs, The (1991)', 4.31974983215332), ('Harry Potter and the Deathly Hallows: Part 2 (2011)', 4.315957069396973), ('Braveheart (1995)', 4.315184116363525), ('Batman Begins (2005)', 4.313457489013672), ('Fight Club (1999)', 4.311080455780029), ('Dark Knight Rises, The (2012)', 4.304675102233887), ('Ghostbusters (a.k.a. Ghost Busters) (1984)', 4.2972822189331055), ('Despicable Me (2010)', 4.295973777770996), ('Pulp Fiction (1994)', 4.294775009155273), ('Finding Nemo (2003)', 4.293376445770264), ('Mad Max: Fury Road (2015)', 4.291749000549316), ('Jurassic Park (1993)', 4.2911882400512695), ('Deadpool (2016)', 4.281200408935547), ('Harry Potter and the Prisoner of Azkaban (2004)', 4.278741836547852), ('Ice Age (2002)', 4.274821758270264), ('Pirates of the Caribbean: The Curse of the Black Pearl (2003)', 4.272462844848633), ('Iron Man (2008)', 4.271109580993652), ('Lord of the Rings: The Return of the King, The (2003)', 4.266604900360107), ('Harry Potter and the Chamber of Secrets (2002)', 4.2559614181518555), ('Harry Potter and the Deathly Hallows: Part 1 (2010)', 4.238133907318115), ('Harry Potter and the Goblet of Fire (2005)', 4.227768898010254), ('V for Vendetta (2006)', 4.223207950592041), ('E.T. the Extra-Terrestrial (1982)', 4.222999572753906), ('Kung Fu Panda (2008)', 4.220439910888672), ('Harry Potter and the Half-Blood Prince (2009)', 4.212982654571533), ('Shrek 2 (2004)', 4.201682090759277), ('Sixth Sense, The (1999)', 4.196696758270264), ('Harry Potter and the Order of the Phoenix (2007)', 4.176412105560303), ('Kill Bill: Vol. 1 (2003)', 4.163113594055176), (\"Bug's Life, A (1998)\", 4.158560752868652), ('Men in Black (a.k.a. MIB) (1997)', 4.157298564910889), ('Star Wars: Episode VII - The Force Awakens (2015)', 4.14279842376709), ('Alien (1979)', 4.141932010650635), ('Terminator, The (1984)', 4.135948181152344), ('Titanic (1997)', 4.107274055480957), ('Shaun of the Dead (2004)', 4.104048728942871), ('Kill Bill: Vol. 2 (2004)', 4.095827579498291), ('Frozen (2013)', 4.067493438720703), ('Spider-Man (2002)', 4.045562267303467), ('Wizard of Oz, The (1939)', 4.023608207702637), ('Avatar (2009)', 3.99680233001709), ('X-Men (2000)', 3.957385540008545), ('Spider-Man 2 (2004)', 3.946794033050537), ('Star Wars: Episode III - Revenge of the Sith (2005)', 3.7912821769714355), ('Independence Day (a.k.a. ID4) (1996)', 3.749356746673584)]\n"
     ]
    }
   ],
   "source": [
    "def get_feature_vector(user_id, movie_id):\n",
    "    data = json.dumps(\n",
    "        {\n",
    "            \"params\": {\n",
    "                \"feature_service_name\": os.environ[\"TECTON_FEATURE_SERVICE\"],\n",
    "                \"join_key_map\": {\n",
    "                    \"USER_ID\": user_id,\n",
    "                    \"MOVIE_ID\": movie_id,\n",
    "                },\n",
    "                \"workspace_name\": \"apply-2022-demo\",\n",
    "            },\n",
    "        }\n",
    "    )\n",
    "    r = tecton_conn_pool.request(\"POST\", url=get_features_endpoint, headers=auth_headers, body=data)\n",
    "    fv = json.loads(r.data.decode(\"utf-8\"))\n",
    "    if \"result\" in fv:\n",
    "        return [user_id, movie_id] + fv[\"result\"][\"features\"]\n",
    "    return None\n",
    "\n",
    "def get_feature_vectors(user_id, movie_ids):\n",
    "    return [get_feature_vector(user_id, movie_id) for movie_id in movie_ids]\n",
    "\n",
    "def get_predictions(df):\n",
    "    dfs = pickle.dumps(df)\n",
    "    dfs = base64.b64encode(dfs).decode(\"utf-8\")\n",
    "    r = prediction_conn_pool.request(\n",
    "        \"POST\",\n",
    "        url=\"/predict/\",\n",
    "        headers=prediction_headers,\n",
    "        body=json.dumps({\"df\": dfs}),\n",
    "    )\n",
    "    return r.data.decode(\"utf-8\")\n",
    "\n",
    "def rank_candidates(user_id, movie_ids):\n",
    "    fvs = get_feature_vectors(user_id, movie_ids)\n",
    "    # create feature dataframe\n",
    "    feature_vectors = [fv for fv in fvs if fv]\n",
    "    df = pd.DataFrame(feature_vectors, columns=names)\n",
    "\n",
    "    # Apply correct schema and typing\n",
    "    for i, col in enumerate(df.columns):\n",
    "        df[col] = df[col].astype(types[i])\n",
    "\n",
    "    # Call prediction endpoint\n",
    "    preds = json.loads(get_predictions(df))[\"predictions\"]\n",
    "\n",
    "    # Sort by predicted rating\n",
    "    preds_and_ids = sorted(\n",
    "        [(p, r) for p, r in zip(preds, list(df.MOVIE_ID.values))],\n",
    "        key=lambda x: x[0],\n",
    "        reverse=True,\n",
    "    )\n",
    "    return preds_and_ids\n",
    "\n",
    "ranked = rank_candidates(user_id, filtered_candidates)\n",
    "titles_and_scores = [(movieid2title[int(id)], p) for p, id in ranked]\n",
    "print(titles_and_scores)"
   ]
  },
  {
   "cell_type": "code",
   "execution_count": null,
   "metadata": {},
   "outputs": [],
   "source": []
  }
 ],
 "metadata": {
  "kernelspec": {
   "display_name": "apply-2022-demo",
   "language": "python",
   "name": "apply-demo-2022"
  },
  "language_info": {
   "codemirror_mode": {
    "name": "ipython",
    "version": 3
   },
   "file_extension": ".py",
   "mimetype": "text/x-python",
   "name": "python",
   "nbconvert_exporter": "python",
   "pygments_lexer": "ipython3",
   "version": "3.8.10"
  }
 },
 "nbformat": 4,
 "nbformat_minor": 4
}
